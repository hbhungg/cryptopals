{
 "cells": [
  {
   "cell_type": "code",
   "execution_count": 213,
   "metadata": {},
   "outputs": [],
   "source": [
    "from cryptography.hazmat.primitives.ciphers import Cipher, algorithms, modes\n",
    "from cryptography.hazmat.backends import default_backend\n",
    "from cryptography.hazmat.primitives import padding\n",
    "import base64\n",
    "import more_itertools as mit\n",
    "import os"
   ]
  },
  {
   "cell_type": "markdown",
   "metadata": {},
   "source": [
    "Challenge 9"
   ]
  },
  {
   "cell_type": "markdown",
   "metadata": {},
   "source": [
    "PKCS#7, pad message to equal to multiple of block size, the pad value will be the pad length.\n",
    "\n",
    "To unpad, simply read the pad value and chop off the pad.\n"
   ]
  },
  {
   "cell_type": "code",
   "execution_count": 235,
   "metadata": {},
   "outputs": [],
   "source": [
    "def pkcs_7_pad(b: bytearray, blocksize):\n",
    "  padding_length = blocksize - (len(b) % blocksize)\n",
    "  return b+bytearray([padding_length]*padding_length)\n",
    "\n",
    "def pkcs_7_unpad(b: bytearray):\n",
    "  return b[:-b[-1]]"
   ]
  },
  {
   "cell_type": "code",
   "execution_count": 237,
   "metadata": {},
   "outputs": [
    {
     "data": {
      "text/plain": [
       "(b'YELLOW SUBMARINE\\x04\\x04\\x04\\x04', b'YELLOW SUBMARINE')"
      ]
     },
     "execution_count": 237,
     "metadata": {},
     "output_type": "execute_result"
    }
   ],
   "source": [
    "v = pkcs_7_pad(b\"YELLOW SUBMARINE\", 20)\n",
    "o = pkcs_7_unpad(v)\n",
    "v, o"
   ]
  },
  {
   "cell_type": "markdown",
   "metadata": {},
   "source": [
    "Challenge 10"
   ]
  },
  {
   "cell_type": "code",
   "execution_count": 238,
   "metadata": {},
   "outputs": [],
   "source": [
    "def aes_encrypt_128_block(key:bytearray, plaintext:bytearray):\n",
    "  backend = default_backend()\n",
    "  cipher = Cipher(algorithms.AES(key), modes.ECB(), backend=backend)\n",
    "  encryptor = cipher.encryptor()\n",
    "  return encryptor.update(plaintext) + encryptor.finalize()\n",
    "\n",
    "def aes_decrypt_128_block(key:bytearray, ciphertext:bytearray):\n",
    "  backend = default_backend()\n",
    "  cipher = Cipher(algorithms.AES(key), modes.ECB(), backend=backend)\n",
    "  decryptor = cipher.decryptor()\n",
    "  return decryptor.update(ciphertext) + decryptor.finalize()"
   ]
  },
  {
   "cell_type": "code",
   "execution_count": 239,
   "metadata": {},
   "outputs": [],
   "source": [
    "with open(\"10.txt\", \"r\") as f:\n",
    "  cipher_text = base64.b64decode(f.read())"
   ]
  },
  {
   "cell_type": "code",
   "execution_count": 243,
   "metadata": {},
   "outputs": [],
   "source": [
    "def bxor(x:bytearray, y:bytearray):\n",
    "  return bytearray([i^j for i,j in zip(x,y)])\n",
    "\n",
    "def aes_encrypt_cbc(plaintext:bytearray, key:bytearray, iv:bytearray):\n",
    "  prev_cipher_block = iv\n",
    "  ciphertext = bytearray()\n",
    "  for block in mit.chunked(pkcs_7_pad(plaintext, 16), 16):\n",
    "    prev_cipher_block = aes_encrypt_128_block(key, bxor(block, prev_cipher_block))\n",
    "    ciphertext += prev_cipher_block\n",
    "  return ciphertext\n",
    "\n",
    "def aes_decrypt_cbc(ciphertext:bytearray, key:bytearray, iv:bytearray):\n",
    "  prev_cipher_block = iv\n",
    "  plaintext = bytearray()\n",
    "  for block in mit.chunked(ciphertext, 16):\n",
    "    plaintext += bxor(prev_cipher_block, aes_decrypt_128_block(key, bytearray(block)))\n",
    "    prev_cipher_block = block\n",
    "  return pkcs_7_unpad(plaintext)"
   ]
  },
  {
   "cell_type": "code",
   "execution_count": 244,
   "metadata": {},
   "outputs": [
    {
     "data": {
      "text/plain": [
       "True"
      ]
     },
     "execution_count": 244,
     "metadata": {},
     "output_type": "execute_result"
    }
   ],
   "source": [
    "plain = bytearray(os.urandom(150))\n",
    "key = os.urandom(16)\n",
    "iv = os.urandom(16)\n",
    "c = aes_encrypt_cbc(plain, key, iv)\n",
    "o = aes_decrypt_cbc(c, key, iv)\n",
    "o == plain"
   ]
  },
  {
   "cell_type": "markdown",
   "metadata": {},
   "source": [
    "Challenge 11"
   ]
  },
  {
   "cell_type": "code",
   "execution_count": 255,
   "metadata": {},
   "outputs": [],
   "source": [
    "import random\n",
    "\n",
    "def aes_encrypt_ecb(plaintext:bytearray, key:bytearray):\n",
    "  return aes_encrypt_128_block(key, pkcs_7_pad(plaintext, 16))\n",
    "\n",
    "def encryption_oracle(plaintext:bytearray, key:bytearray):\n",
    "  header, footer = os.urandom(random.randint(5, 10)), os.urandom(random.randint(5, 10))\n",
    "  plaintext_pad = header+plaintext+footer\n",
    "\n",
    "  # If True, CBC, else, ECB\n",
    "  if random.choice([True, False]):\n",
    "    iv = os.urandom(16)\n",
    "    return aes_encrypt_cbc(plaintext_pad, key, iv), \"CBC\"\n",
    "  return bytearray(aes_encrypt_ecb(plaintext_pad, key)), \"ECB\""
   ]
  },
  {
   "cell_type": "code",
   "execution_count": 256,
   "metadata": {},
   "outputs": [
    {
     "name": "stdout",
     "output_type": "stream",
     "text": [
      "CBC CBC True\n",
      "CBC CBC True\n",
      "CBC CBC True\n",
      "CBC CBC True\n",
      "ECB ECB True\n",
      "ECB ECB True\n",
      "CBC CBC True\n",
      "ECB ECB True\n",
      "ECB ECB True\n",
      "ECB ECB True\n"
     ]
    }
   ],
   "source": [
    "def detect_ecb(ct: bytearray):\n",
    "  repeated = set(tuple(x) for x in list(mit.chunked(ct, 16)))\n",
    "  if len(repeated) != len(ct)//16: return True\n",
    "  return False\n",
    "\n",
    "for _ in range(10):\n",
    "  msg = bytearray(b\"A\"*50)\n",
    "  key = os.urandom(16)\n",
    "  v, mode = encryption_oracle(msg, key)\n",
    "  pred_mode = \"ECB\" if detect_ecb(v) else \"CBC\"\n",
    "  assert mode == pred_mode\n",
    "  print(mode, pred_mode, mode == pred_mode)"
   ]
  },
  {
   "cell_type": "markdown",
   "metadata": {},
   "source": [
    "Challenge 12"
   ]
  },
  {
   "cell_type": "code",
   "execution_count": 257,
   "metadata": {},
   "outputs": [],
   "source": [
    "unknown_string = b'Um9sbGluJyBpbiBteSA1LjAKV2l0aCBteSByYWctdG9wIGRvd24gc28gbXkgaGFpciBjYW4gYmxvdwpUaGUgZ2lybGllcyBvbiBzdGFuZGJ5IHdhdmluZyBqdXN0IHRvIHNheSBoaQpEaWQgeW91IHN0b3A/IE5vLCBJIGp1c3QgZHJvdmUgYnkK'"
   ]
  },
  {
   "cell_type": "code",
   "execution_count": 270,
   "metadata": {},
   "outputs": [
    {
     "name": "stdout",
     "output_type": "stream",
     "text": [
      "144 160 16\n"
     ]
    }
   ],
   "source": [
    "# Global secret key\n",
    "secret_key = os.urandom(16)\n",
    "\n",
    "# Find the block size\n",
    "last_ctxt = None\n",
    "for i in range(10):\n",
    "  msg = bytearray(b\"A\"*(i+1)) + base64.b64decode(unknown_string)\n",
    "  c = aes_encrypt_ecb(msg, secret_key)\n",
    "  if last_ctxt is not None and (blocksize:=len(c) - len(last_ctxt)) != 0:\n",
    "    print(len(msg), len(v), blocksize)\n",
    "  last_ctxt = c"
   ]
  },
  {
   "cell_type": "code",
   "execution_count": 325,
   "metadata": {},
   "outputs": [
    {
     "name": "stdout",
     "output_type": "stream",
     "text": [
      "b'AAAAAAAAAAAAAAA' 15\n",
      "b'\\x9cZ\\x7f\\xe9\\xed$\\xa2M'\n",
      "b'AAAAAAAAAAAAAAAR' b'\\x9cZ\\x7f\\xe9\\xed$\\xa2M' b'\\x9cZ\\x7f\\xe9\\xed$\\xa2M'\n",
      "b'AAAAAAAAAAAAAAR' 15\n",
      "b'\\x9f\\x11\\x02\\xe1k$\\xb5d'\n",
      "b'AAAAAAAAAAAAAARR' b'\\x9f\\x11\\x02\\xe1k$\\xb5d' b'\\x9f\\x11\\x02\\xe1k$\\xb5d'\n",
      "b'AAAAAAAAAAAAARR' 15\n",
      "b'\\xacw\\x9e\\xe2\\xd2\\xe54G'\n",
      "b'AAAAAAAAAAAAARRR' b'\\xacw\\x9e\\xe2\\xd2\\xe54G' b'\\xacw\\x9e\\xe2\\xd2\\xe54G'\n",
      "b'AAAAAAAAAAAARRR' 15\n",
      "b'\\xc5:\\x8clg\\xcdKR'\n",
      "b'AAAAAAAAAAAARRRR' b'\\xc5:\\x8clg\\xcdKR' b'\\xc5:\\x8clg\\xcdKR'\n",
      "b'AAAAAAAAAAARRRR' 15\n",
      "b'Eh\\xfa\\xe7\\xdd\"\\xb3X'\n",
      "b'AAAAAAAAAAARRRRR' b'Eh\\xfa\\xe7\\xdd\"\\xb3X' b'Eh\\xfa\\xe7\\xdd\"\\xb3X'\n",
      "b'AAAAAAAAAARRRRR' 15\n",
      "b'\\x95Gf\\xd3Bx\\xfaO'\n",
      "b'AAAAAAAAAARRRRRR' b'\\x95Gf\\xd3Bx\\xfaO' b'\\x95Gf\\xd3Bx\\xfaO'\n",
      "b'AAAAAAAAARRRRRR' 15\n",
      "b'\\xc1\\x7f\\xc3I\\xaa\\xb6*\\x93'\n",
      "b'AAAAAAAAARRRRRRR' b'\\xc1\\x7f\\xc3I\\xaa\\xb6*\\x93' b'\\xc1\\x7f\\xc3I\\xaa\\xb6*\\x93'\n",
      "b'AAAAAAAARRRRRRR' 15\n",
      "b'\\x9b]\\xd5\\x82\"\\xda`X'\n",
      "b'AAAAAAAARRRRRRRR' b'\\x9b]\\xd5\\x82\"\\xda`X' b'\\x9b]\\xd5\\x82\"\\xda`X'\n",
      "b'AAAAAAARRRRRRRR' 15\n",
      "b'\\x14G\\x10\\xff\\xfdD\\xec\\xa8'\n",
      "b'AAAAAAARRRRRRRRR' b'\\x14G\\x10\\xff\\xfdD\\xec\\xa8' b'\\x14G\\x10\\xff\\xfdD\\xec\\xa8'\n",
      "b'AAAAAARRRRRRRRR' 15\n",
      "b'\\x90\\xd3\\niz\\xd5\\xa4\\x9d'\n",
      "b'AAAAAARRRRRRRRRR' b'\\x90\\xd3\\niz\\xd5\\xa4\\x9d' b'\\x90\\xd3\\niz\\xd5\\xa4\\x9d'\n",
      "b'AAAAARRRRRRRRRR' 15\n",
      "b'5?\\x94B\\xadu;\\xff'\n",
      "b'AAAAARRRRRRRRRRR' b'5?\\x94B\\xadu;\\xff' b'5?\\x94B\\xadu;\\xff'\n",
      "b'AAAARRRRRRRRRRR' 15\n",
      "b'\\xf3\\xd5\\x80kL\\x89)2'\n",
      "b'AAAARRRRRRRRRRRR' b'\\xf3\\xd5\\x80kL\\x89)2' b'\\xf3\\xd5\\x80kL\\x89)2'\n",
      "b'AAARRRRRRRRRRRR' 15\n",
      "b'g\\xfc@\\x0f\\xc2\\x1f\\xc0b'\n",
      "b'AAARRRRRRRRRRRRR' b'g\\xfc@\\x0f\\xc2\\x1f\\xc0b' b'g\\xfc@\\x0f\\xc2\\x1f\\xc0b'\n",
      "b'AARRRRRRRRRRRRR' 15\n",
      "b'\\xec\\xcb\\xb5eH\\xb2\\x7f]'\n",
      "b'AARRRRRRRRRRRRRR' b'\\xec\\xcb\\xb5eH\\xb2\\x7f]' b'\\xec\\xcb\\xb5eH\\xb2\\x7f]'\n",
      "b'ARRRRRRRRRRRRRR' 15\n",
      "b'\\xd5;\\x94\\xfb#P\\xea('\n",
      "b'ARRRRRRRRRRRRRRR' b'\\xd5;\\x94\\xfb#P\\xea(' b'\\xd5;\\x94\\xfb#P\\xea('\n",
      "b'RRRRRRRRRRRRRRR' 15\n",
      "b\"\\xa3\\xd7'\\x037\\xd0\\xa1\\xa5\"\n",
      "b'RRRRRRRRRRRRRRRR' b\"\\xa3\\xd7'\\x037\\xd0\\xa1\\xa5\" b\"\\xa3\\xd7'\\x037\\xd0\\xa1\\xa5\"\n"
     ]
    }
   ],
   "source": [
    "known_plaintext = bytearray()\n",
    "for i in range(16):\n",
    "  your_string = b\"A\"*(15-i) + known_plaintext\n",
    "  print(your_string, len(your_string))\n",
    "  target_block = aes_encrypt_ecb(your_string + base64.b64decode(unknown_string), secret_key)[:8]\n",
    "  print(target_block)\n",
    "  for b in range(2**8):\n",
    "    header = your_string + bytes([b])\n",
    "    msg =  header + base64.b64decode(unknown_string) \n",
    "    # print(header)\n",
    "    c = aes_encrypt_ecb(msg, secret_key)\n",
    "    if c[:8] == target_block:\n",
    "      print(header, c[:8], target_block)\n",
    "      known_plaintext.append(b)\n",
    "# print(known_plaintext)"
   ]
  },
  {
   "cell_type": "code",
   "execution_count": 320,
   "metadata": {},
   "outputs": [
    {
     "data": {
      "text/plain": [
       "b'}+B\\x9d\\xffg*\\xc0'"
      ]
     },
     "execution_count": 320,
     "metadata": {},
     "output_type": "execute_result"
    }
   ],
   "source": [
    "aes_encrypt_ecb(base64.b64decode(unknown_string), secret_key)[:8]"
   ]
  },
  {
   "cell_type": "code",
   "execution_count": 321,
   "metadata": {},
   "outputs": [
    {
     "data": {
      "text/plain": [
       "b\"\\xa3\\xd7'\\x037\\xd0\\xa1\\xa5\""
      ]
     },
     "execution_count": 321,
     "metadata": {},
     "output_type": "execute_result"
    }
   ],
   "source": [
    "aes_encrypt_ecb(b'R'*16, secret_key)[:8]"
   ]
  },
  {
   "cell_type": "code",
   "execution_count": null,
   "metadata": {},
   "outputs": [],
   "source": []
  }
 ],
 "metadata": {
  "kernelspec": {
   "display_name": "Python 3",
   "language": "python",
   "name": "python3"
  },
  "language_info": {
   "codemirror_mode": {
    "name": "ipython",
    "version": 3
   },
   "file_extension": ".py",
   "mimetype": "text/x-python",
   "name": "python",
   "nbconvert_exporter": "python",
   "pygments_lexer": "ipython3",
   "version": "3.13.0"
  }
 },
 "nbformat": 4,
 "nbformat_minor": 2
}
